{
 "cells": [
  {
   "cell_type": "markdown",
   "id": "b041ecbb-fcf6-4099-8eab-17a5114faffa",
   "metadata": {},
   "source": [
    "# Example notebook"
   ]
  },
  {
   "cell_type": "code",
   "execution_count": 37,
   "id": "ce3f059e-be9b-49ff-bf9d-e67c076e0122",
   "metadata": {},
   "outputs": [],
   "source": [
    "import os\n",
    "import sys\n",
    "\n",
    "sys.path.insert(0, os.path.join(\"..\", \"src\", \"python\"))"
   ]
  },
  {
   "cell_type": "code",
   "execution_count": 38,
   "id": "91c39e58-16c6-4c36-9884-6c53ba5f9376",
   "metadata": {},
   "outputs": [],
   "source": [
    "from example import ExampleClass"
   ]
  },
  {
   "cell_type": "code",
   "execution_count": 39,
   "id": "fe301046-2043-4cea-a2f1-d180655063a8",
   "metadata": {},
   "outputs": [],
   "source": [
    "my_example_class = ExampleClass(\"foo\", 42)"
   ]
  },
  {
   "cell_type": "code",
   "execution_count": null,
   "id": "12bfa3ef-83fc-46dd-9f4d-511a54e100bc",
   "metadata": {},
   "outputs": [],
   "source": [
    "my_example_class.show()"
   ]
  }
 ],
 "metadata": {
  "kernelspec": {
   "display_name": "Python 3 (ipykernel)",
   "language": "python",
   "name": "python3"
  },
  "language_info": {
   "codemirror_mode": {
    "name": "ipython",
    "version": 3
   },
   "file_extension": ".py",
   "mimetype": "text/x-python",
   "name": "python",
   "nbconvert_exporter": "python",
   "pygments_lexer": "ipython3",
   "version": "3.12.3"
  }
 },
 "nbformat": 4,
 "nbformat_minor": 5
}
